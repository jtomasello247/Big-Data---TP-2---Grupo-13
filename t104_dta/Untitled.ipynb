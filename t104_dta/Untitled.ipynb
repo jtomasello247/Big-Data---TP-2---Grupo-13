{
 "cells": [
  {
   "cell_type": "code",
   "execution_count": null,
   "id": "2d390349-2a1c-4e9f-8acf-6ccf0c24ce00",
   "metadata": {},
   "outputs": [],
   "source": []
  }
 ],
 "metadata": {
  "kernelspec": {
   "display_name": "Python [conda env:base] *",
   "language": "python",
   "name": "conda-base-py"
  },
  "language_info": {
   "codemirror_mode": {
    "name": "ipython",
    "version": 3
   },
   "file_extension": ".py",
   "mimetype": "text/x-python",
   "name": "python",
   "nbconvert_exporter": "python",
   "pygments_lexer": "ipython3",
   "version": "3.12.7"
  }
 },
 "nbformat": 4,
 "nbformat_minor": 5
}
